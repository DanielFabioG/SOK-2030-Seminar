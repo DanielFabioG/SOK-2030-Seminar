{
 "cells": [
  {
   "cell_type": "markdown",
   "metadata": {},
   "source": [
    "# Sok-2030 Næringsøkonomi og konkuransestrategi\n",
    "\n",
    "## Monopol og prisdiskriminering\n"
   ]
  },
  {
   "cell_type": "code",
   "execution_count": 1,
   "metadata": {},
   "outputs": [],
   "source": [
    "import sympy as sp\n",
    "import numpy as np\n",
    "import matplotlib.pyplot as plt"
   ]
  },
  {
   "cell_type": "markdown",
   "metadata": {},
   "source": [
    "### Grunnleggende Monopolmodell\n",
    "\n",
    "Monopolisten står overfor en etterspørselskurve og maksimerer profitt ved å sette marginalinntekten lik marginalkostnaden (MR = MC).\n",
    "\n",
    "Men før vi kan sette marginalinntekten lik marginalkostnaden, må vi finne marginalinntekten og marginalkostnaden. Disse blir normalt gitt ut i oppgavene, men kort forklart er det den deriverte av inntektsfunksjonen og kostnadsfunksjonen.\n",
    "\n",
    "Litt repitisjon før vi begynner på monopol og prisdiskriminering:\n",
    "\n",
    "## Forklaring av variabler i monopolmodellen\n",
    "\n",
    "For å forstå monopol og prisdiskriminering må vi først definere de viktigste variablene:\n",
    "\n",
    "- $P$ er prisen monopolisten setter for produktet sitt.\n",
    "- $Q$ er mengden av produktet som produseres totalt.\n",
    "- $MR$ er marginalinntekt: Inntekten monopolisten får ved å selge én ekstra enhet.\n",
    "- $MC$ er marginalkostnad: Kostnaden for å produsere én ekstra enhet.\n",
    "- $\\pi $ er (Profitt): Totale inntekter minus totale kostnader.\n",
    "- $q$ er kvantum: Om det er flere fabrikker, vil $q$ være mengden produsert av én fabrikk.\n",
    "\n",
    "### Etterspørselsfunksjon:\n",
    "En lineær invers etterspørselsfunksjon har formen:\n",
    "\n",
    "$$P(Q) = a - bq$$\n",
    "\n",
    "Der:\n",
    "- $a$ representerer den maksimale betalingsvilligheten (når $Q = 0$).\n",
    "- $b$ angir hvor følsom prisen er for endringer i kvantum."
   ]
  },
  {
   "cell_type": "code",
   "execution_count": 2,
   "metadata": {},
   "outputs": [],
   "source": [
    "# Definerer symboler\n",
    "a,b,Q,P, F,c,d,q = sp.symbols('a b Q P F c d q', real=True, positive=True)\n",
    "\n",
    "# Definerer funksjonen for etterspørsel\n",
    "P_eq = a - b*q"
   ]
  },
  {
   "cell_type": "markdown",
   "metadata": {},
   "source": [
    "### Marginalinntekt:\n",
    "\n",
    "I en monopolistisk setting er den **totale inntekten (TR)** definert som produktet av prisen $P(q)$ og kvantumet $q$:\n",
    "\n",
    "$$\n",
    "TR(Q) = P(q) \\cdot q\n",
    "$$\n",
    "\n",
    "Ved å sette inn $P(Q)$ i uttrykket for $TR(Q)$ får vi:\n",
    "\n",
    "$$\n",
    "TR(Q) = (a - bq) \\cdot q \n",
    "$$\n",
    "\n",
    "og deretter forenklet blir:\n",
    "\n",
    "$$\n",
    "TR(Q) = aq - bq^2\n",
    "$$"
   ]
  },
  {
   "cell_type": "code",
   "execution_count": 3,
   "metadata": {},
   "outputs": [
    {
     "data": {
      "text/latex": [
       "$\\displaystyle q \\left(a - b q\\right)$"
      ],
      "text/plain": [
       "q*(a - b*q)"
      ]
     },
     "execution_count": 3,
     "metadata": {},
     "output_type": "execute_result"
    }
   ],
   "source": [
    "# For å finne totalinntekten, multipliserer vi prisen med kvantumet\n",
    "TR = P_eq*q\n",
    "TR"
   ]
  },
  {
   "cell_type": "markdown",
   "metadata": {},
   "source": [
    "### Derivering av totale inntekter\n",
    "\n",
    "Marginalinntekten (MR) er definert som den deriverte av de totale inntektene med hensyn til $Q$:\n",
    "\n",
    "$$\n",
    "MR(Q) = \\frac{\\partial TR(Q)}{\\partial Q}\n",
    "$$\n",
    "\n",
    "Vi deriverer $TR(Q) = aQ - bQ^2$ med hensyn til $Q$:\n",
    "\n",
    "1. Den deriverte av $aQ$ med hensyn til $Q$ blir $a$.\n",
    "2. Den deriverte av $bQ^2$ med hensyn til $Q$ blir $2bQ$.\n",
    "\n",
    "Så får vi:\n",
    "\n",
    "$$\n",
    "MR(Q) = a - 2bQ\n",
    "$$\n",
    "\n",
    "Det vi kan se er at:\n",
    "\n",
    "- Når $Q$ øker, reduseres marginalinntekten med en hastighet på $2b$ per enhet økning i $Q$.\n",
    "- Marginalinntekten faller raskere enn prisen, noe som er en viktig egenskap i en monopolistisk markedsstruktur."
   ]
  },
  {
   "cell_type": "code",
   "execution_count": 4,
   "metadata": {},
   "outputs": [
    {
     "data": {
      "text/latex": [
       "$\\displaystyle 0$"
      ],
      "text/plain": [
       "0"
      ]
     },
     "execution_count": 4,
     "metadata": {},
     "output_type": "execute_result"
    }
   ],
   "source": [
    "# Deriverer totalinntekten med hensyn på kvantumet og finner marginalinntekten\n",
    "MR = sp.diff(TR, Q)\n",
    "MR"
   ]
  },
  {
   "cell_type": "markdown",
   "metadata": {},
   "source": [
    "##  Marginalkostnad\n",
    "\n",
    "**Marginalkostnad (MC)** er definert som endringen i totale kostnader når produksjonsmengden økes med én enhet. Det vil si at marginalkostnaden viser hvor mye den totale kostnaden øker for hver ekstra produsert enhet.\n",
    "\n",
    "La oss anta at de **totale kostnadene (TC)** er gitt ved en funksjon:\n",
    "$$\n",
    "TC(q) = F + cq + dq^2\n",
    "$$\n",
    "hvor $q$ er antall produserte enheter i én fabrikk.\n",
    "\n",
    "Dette uttrykket forteller oss hvor mye de totale kostnadene endres når vi øker $q$ med en enhet.\n",
    "hvor:\n",
    "- $F$ er de faste kostnadene (kostnader som ikke endres med produksjonsmengden),\n",
    "- $c$ er den variable kostnaden per enhet, og\n",
    "- $dq^2$ representerer økende variable kostnader (f.eks. på grunn av kapasitetsskala eller andre ineffektivitetseffekter ved høy produksjon).\n",
    "\n",
    "Merk at om monopolisten har flere fabrikker, vil $q$ være kvantum produsert av én fabrikk, og $Q$ vil være totalt kvantum produsert av alle fabrikkene.\n",
    "\n",
    "Da blir uttrykket for total kostnad:\n",
    "\n",
    "$$\n",
    "TC(Q) = F + cQ + dQ^2\n",
    "$$\n",
    "\n",
    "hvor $q$ er $ \\frac{Q}{n}$ kvantum produsert mellom alle fabrikkene."
   ]
  },
  {
   "cell_type": "code",
   "execution_count": 5,
   "metadata": {},
   "outputs": [
    {
     "data": {
      "text/latex": [
       "$\\displaystyle F + \\frac{Q^{2} d}{4} + \\frac{Q c}{2}$"
      ],
      "text/plain": [
       "F + Q**2*d/4 + Q*c/2"
      ]
     },
     "execution_count": 5,
     "metadata": {},
     "output_type": "execute_result"
    }
   ],
   "source": [
    "# Definerer funksjonen for totalkostnaden, q = Q/2 hvor monopolisten fordeler kvantum produsert på 2 fabrikker\n",
    "q = Q/2 \n",
    "TC = F + c*q + d*q**2\n",
    "TC"
   ]
  },
  {
   "cell_type": "markdown",
   "metadata": {},
   "source": [
    "Marginalkostnaden defineres som den deriverte av de totale kostnadene med hensyn til produksjonsmengden:\n",
    "$$\n",
    "MC(Q) = \\frac{\\partial TC(Q)}{\\partial Q}\n",
    "$$\n",
    "\n",
    "For å finne marginalkostnaden, deriverer vi $TC(Q)$ med hensyn til $Q$:\n",
    "1. Den deriverte av $F$ (en konstant) er 0.\n",
    "2. Den deriverte av $\\frac{Q^{2} d}{4}$ med hensyn til $Q$ er $\\frac{2Qd}{4}$.\n",
    "3. Den deriverte av $\\frac{Q c}{2}$ med hensyn til $Q$ er $\\frac{c}{2}$.\n",
    "\n",
    "Så får vi:\n",
    "$$\n",
    "MC(Q) =  \\frac{Q d}{2} + \\frac{c}{2}\n",
    "$$\n",
    "\n",
    "Dette uttrykket viser at marginalkostnaden øker med $q$ dersom $d > 0$, noe som kan være typisk i mange produksjonsscenarier."
   ]
  },
  {
   "cell_type": "code",
   "execution_count": 6,
   "metadata": {},
   "outputs": [
    {
     "data": {
      "text/latex": [
       "$\\displaystyle \\frac{Q d}{2} + \\frac{c}{2}$"
      ],
      "text/plain": [
       "Q*d/2 + c/2"
      ]
     },
     "execution_count": 6,
     "metadata": {},
     "output_type": "execute_result"
    }
   ],
   "source": [
    "MC = sp.diff(TC, Q)\n",
    "MC"
   ]
  },
  {
   "cell_type": "markdown",
   "metadata": {},
   "source": [
    "# Eksempel\n",
    "\n",
    "La oss si at vi har en monopolist som selger en vare til en pris gitt ved lineær etterspørsel fra 2.1.2 monopoltilpasning:\n",
    "\n",
    "$$\n",
    "Q = 6000 - \\frac{50P}{9}\n",
    "$$\n",
    "\n",
    "Vi løser for $P$ og får invers etterspørsel:\n",
    "\n",
    "$$\n",
    "P(Q) = \\frac{6000}{50} - \\frac{9Q}{50}\n",
    "$$\n",
    "\n",
    "Forenkler litt med å dele 6000 på 50 og får:\n",
    "\n",
    "$$\n",
    "P(Q) = 120 - \\frac{9Q}{50}\n",
    "$$"
   ]
  },
  {
   "cell_type": "code",
   "execution_count": 7,
   "metadata": {},
   "outputs": [
    {
     "data": {
      "text/latex": [
       "$\\displaystyle 120 - \\frac{9 Q}{50}$"
      ],
      "text/plain": [
       "120 - 9*Q/50"
      ]
     },
     "execution_count": 7,
     "metadata": {},
     "output_type": "execute_result"
    }
   ],
   "source": [
    "# Gitt etterspørselsfunksjon: Q = (6000 - 50*P)/9\n",
    "ettersporsel = sp.Eq(Q, (6000 - 50*P)/9)\n",
    "\n",
    "# Løs for P for å finne den inverse etterspørselen\n",
    "invers_etters = sp.solve(ettersporsel, P)[0]\n",
    "\n",
    "invers_etters"
   ]
  },
  {
   "cell_type": "markdown",
   "metadata": {},
   "source": [
    "Deretter finner vi marginalinntekt ved å multiplisere $P(Q)$ med $Q$ og deriverer med hensyn til $Q$:\n",
    "\n",
    "$$\n",
    "TR(Q) = (120 - \\frac{9Q}{50}) \\cdot Q\n",
    "$$\n",
    "\n",
    "Multipliserer ut og får:\n",
    "\n",
    "$$\n",
    "TR(Q) = 120Q - \\frac{9Q^2}{50}\n",
    "$$\n",
    "\n",
    "Og deriverer med hensyn til $Q$:\n",
    "\n",
    "$$\n",
    "MR(Q) = 120 - 2 \\cdot \\frac{9Q}{50}\n",
    "$$\n",
    "\n",
    "Så har vi marginalkostnaden:\n",
    "\n",
    "$$\n",
    "MR(Q) = 120 - \\frac{18Q}{50}\n",
    "$$"
   ]
  },
  {
   "cell_type": "code",
   "execution_count": 8,
   "metadata": {},
   "outputs": [
    {
     "data": {
      "text/latex": [
       "$\\displaystyle Q \\left(120 - \\frac{9 Q}{50}\\right)$"
      ],
      "text/plain": [
       "Q*(120 - 9*Q/50)"
      ]
     },
     "execution_count": 8,
     "metadata": {},
     "output_type": "execute_result"
    }
   ],
   "source": [
    "# Multipliserer prisen med kvantumet for å finne totalinntekten\n",
    "TR = invers_etters*Q\n",
    "TR"
   ]
  },
  {
   "cell_type": "code",
   "execution_count": 9,
   "metadata": {},
   "outputs": [
    {
     "data": {
      "text/latex": [
       "$\\displaystyle 120 - \\frac{9 Q}{25}$"
      ],
      "text/plain": [
       "120 - 9*Q/25"
      ]
     },
     "execution_count": 9,
     "metadata": {},
     "output_type": "execute_result"
    }
   ],
   "source": [
    "# Deriverer totalinntekten med hensyn på kvantumet for å finne marginalinntekten\n",
    "MR = sp.diff(TR, Q)\n",
    "\n",
    "# Python forenkler alltid uttrykkene, så om de ser litt rare ut, er det fordi de er forenklet\n",
    "# 120 - 9Q/25 er det samme som 120 - 18Q/50\n",
    "MR"
   ]
  },
  {
   "cell_type": "markdown",
   "metadata": {},
   "source": [
    "## Finner marginalkostnaden\n",
    "\n",
    "De totale kostnadene er gitt ved:\n",
    "\n",
    "$$\n",
    "TC(q) = 100 + q^2 + 10q\n",
    "$$\n",
    "\n",
    "Merk at i oppgave 2.1.2 når hele konsernet produserer totalmengden Q fordeler den seg likt på 50 fabrikker, altså\n",
    "$$\n",
    "q = \\frac{Q}{50}\n",
    "$$\n",
    "\n",
    "per fabrikk.\n",
    "\n",
    "Total kostnad er 50 ganger kostnaden i én fabrikk, men hver fabrikk produserer $ \\frac{Q}{50} $ enheter. Da får vi:\n",
    "\n",
    "$$\n",
    "TC(Q) = 50 \\cdot [100 + (\\frac{Q}{50})^2 + (\\frac{10Q}{50})]\n",
    "$$\n",
    "\n",
    "Med å regne ut ledd inne i klammen først får vi:\n",
    "\n",
    "$$\n",
    "TC(Q) = 50 \\cdot 100 + \\frac{Q^2}{2500} + \\frac{Q}{5}\n",
    "$$\n",
    "\n",
    "Multipliserer ut med 50 og får:\n",
    "\n",
    "$$\n",
    "TC(Q) = 5000 + \\frac{Q^2}{50} + 10Q\n",
    "$$\n",
    "\n",
    "\n",
    "\n",
    "For å finne marginalkostnaden, deriverer vi $TC(Q)$ med hensyn til $Q$:\n",
    "1. Den deriverte av $5000$ (en konstant) er 0.\n",
    "2. Den deriverte av $\\frac{Q^2}{50}$ med hensyn til $Q$ er $\\frac{2Q}{50}$.\n",
    "3. Den deriverte av $10Q$ med hensyn til $Q$ er $10$.\n",
    "\n",
    "Så får vi:\n",
    "$$\n",
    "MC(Q) = \\frac{2Q}{50} + 10\n",
    "$$"
   ]
  },
  {
   "cell_type": "code",
   "execution_count": 10,
   "metadata": {},
   "outputs": [
    {
     "data": {
      "text/latex": [
       "$\\displaystyle \\frac{Q^{2}}{2500} + \\frac{Q}{5} + 100$"
      ],
      "text/plain": [
       "Q**2/2500 + Q/5 + 100"
      ]
     },
     "execution_count": 10,
     "metadata": {},
     "output_type": "execute_result"
    }
   ],
   "source": [
    "# Definerer total kostnad og at q = Q/50\n",
    "q = Q/50\n",
    "TC = 100 + q**2 + 10*q\n",
    "TC"
   ]
  },
  {
   "cell_type": "code",
   "execution_count": 11,
   "metadata": {},
   "outputs": [
    {
     "data": {
      "text/latex": [
       "$\\displaystyle \\frac{Q^{2}}{50} + 10 Q + 5000$"
      ],
      "text/plain": [
       "Q**2/50 + 10*Q + 5000"
      ]
     },
     "execution_count": 11,
     "metadata": {},
     "output_type": "execute_result"
    }
   ],
   "source": [
    "# Vi har 50 fabrikker og det er monopolistisk konkurranse\n",
    "# Derfor er det 50 bedrifter som produserer kvantumet q\n",
    "TC = 50*TC\n",
    "TC"
   ]
  },
  {
   "cell_type": "code",
   "execution_count": 12,
   "metadata": {},
   "outputs": [
    {
     "data": {
      "text/latex": [
       "$\\displaystyle \\frac{Q}{25} + 10$"
      ],
      "text/plain": [
       "Q/25 + 10"
      ]
     },
     "execution_count": 12,
     "metadata": {},
     "output_type": "execute_result"
    }
   ],
   "source": [
    "# Deriverer total kostnad med hensyn på kvantumet\n",
    "# Utrykket er forenklet av python\n",
    "MC = sp.diff(TC, Q)\n",
    "MC"
   ]
  },
  {
   "cell_type": "markdown",
   "metadata": {},
   "source": [
    "# Optimal tilpasning for monopolisten\n",
    "\n",
    "For å finne optimal tilpasning for monopolisten, må vi sette marginalinntekten lik marginalkostnaden, disse har vi nå regnet ut:\n",
    "\n",
    "$$\n",
    "MR(Q) = MC(Q)\n",
    "$$\n",
    "\n",
    "Setter vi inn uttrykkene for $MR(Q)$ og $MC(Q)$ får vi:\n",
    "\n",
    "$$\n",
    "120 - \\frac{18Q}{50} = 10 + \\frac{Q}{25}\n",
    "$$\n",
    "\n",
    "Løser vi denne likningen for Q får vi:\n",
    "\n",
    "$$\n",
    "Q = 500\n",
    "$$\n",
    "\n",
    "Setter vi inn $Q = 500$ i etterspørselsfunksjonen får vi:\n",
    "\n",
    "$$\n",
    "P = 120 - \\frac{9 \\cdot 500}{50} = 70.5\n",
    "$$\n",
    "\n",
    "Så monopolisten bør produsere 500 enheter og selge dem til en pris på 70.5."
   ]
  },
  {
   "cell_type": "code",
   "execution_count": 13,
   "metadata": {},
   "outputs": [
    {
     "data": {
      "text/plain": [
       "'Q blir 275, P blir 70.5'"
      ]
     },
     "execution_count": 13,
     "metadata": {},
     "output_type": "execute_result"
    }
   ],
   "source": [
    "# Setter MR = MC for å finne likevektskvantumet\n",
    "likevekt = sp.Eq(MR, MC)\n",
    "\n",
    "# Løser for Q\n",
    "Q_løsning = sp.solve(likevekt, Q)\n",
    "\n",
    "# Setter inn kvantumet i etterspørselsfunksjonen for å finne prisen\n",
    "P_løsning = invers_etters.subs(Q, Q_løsning[0])\n",
    "\n",
    "f'Q blir {Q_løsning[0]}, P blir {round(P_løsning, 1)}'\n"
   ]
  },
  {
   "cell_type": "markdown",
   "metadata": {},
   "source": [
    "## Produksjon per fabrikk og profitt\n",
    "\n",
    "Siden vi vet at det er 50 fabrikker, og hver fabrikk produserer $ \\frac{Q}{50} $ enheter hvor Q er 275, får vi:\n",
    "\n",
    "$$\n",
    "q = \\frac{275}{50} = 5.5 \n",
    "$$\n",
    "\n",
    "per fabrikk.\n",
    "\n",
    "For å finne profitten til monopolisten, trekker vi fra de totale kostnadene fra de totale inntektene:\n",
    "\n",
    "Total inntekt er gitt ved:\n",
    "\n",
    "$$\n",
    "\\pi(q) = P \\cdot q - TC(q)\n",
    "$$\n",
    "\n",
    "Setter vi inn $P = 70.5$, $q = 5.5$, og $TC(q) = 100 + 5.5^2 + 10 \\cdot 5.5$ i profittfunksjonen får vi:\n",
    "\n",
    "$$\n",
    "\\pi(q) = 70.5 \\cdot 5.5 - 100 + 5.5^2 + 10 \\cdot 5.5 = 202.5\n",
    "$$\n",
    "\n",
    "Produksjon per fabrikk er 5.5 enheter og profitten per fabrikk er 202.5."
   ]
  },
  {
   "cell_type": "code",
   "execution_count": 14,
   "metadata": {},
   "outputs": [
    {
     "data": {
      "text/plain": [
       "'Produksjon per fabrikk blir 5.50 og profitt per fabrikk blir 202.5'"
      ]
     },
     "execution_count": 14,
     "metadata": {},
     "output_type": "execute_result"
    }
   ],
   "source": [
    "# Regner ut produksjon per fabrikk og profitt\n",
    "Optimal_q= round(Q_løsning[0]/50, 2)\n",
    "Profitt_per_fabrikk = (round(P_løsning,2) * Optimal_q) - (100 + Optimal_q**2 + 10*Optimal_q)\n",
    "\n",
    "\n",
    "f'Produksjon per fabrikk blir {Optimal_q} og profitt per fabrikk blir {Profitt_per_fabrikk}'"
   ]
  },
  {
   "cell_type": "markdown",
   "metadata": {},
   "source": [
    "## Optimal tilpasning ved tredje grads prisdiskriminering"
   ]
  }
 ],
 "metadata": {
  "kernelspec": {
   "display_name": "Python 3",
   "language": "python",
   "name": "python3"
  },
  "language_info": {
   "codemirror_mode": {
    "name": "ipython",
    "version": 3
   },
   "file_extension": ".py",
   "mimetype": "text/x-python",
   "name": "python",
   "nbconvert_exporter": "python",
   "pygments_lexer": "ipython3",
   "version": "3.11.1"
  }
 },
 "nbformat": 4,
 "nbformat_minor": 2
}
