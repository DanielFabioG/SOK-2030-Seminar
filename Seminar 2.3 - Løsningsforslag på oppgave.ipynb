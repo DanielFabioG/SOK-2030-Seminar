{
 "cells": [
  {
   "cell_type": "markdown",
   "metadata": {},
   "source": [
    "## Oppgave - monopol og produktdifferensiering\n",
    "\n",
    "Kaffebønna er lokalisert i Tromsø med flere utsalgssteder. I første omgang antar vi at Kaffebønna er monopolist i sitt marked hvor kundene er horisontalt differensiert (den linære byen). \n",
    "\n",
    "Anta at Kaffebønna har 30 000 kunder (N=30 000) som er jevnt fordelt langs lokaliseringsområdet til utsalgsstedene, og at hver kunde kjøper en kopp kaffe per dag. \n",
    "\n",
    "Kostnaden ved å produsere en kopp kaffe er NOK 5, og bedriften har faste kostnader per utsalgssted på NOK 25 000.\n",
    "\n",
    "Transportkostnadene for kundene er på NOK 50.\n",
    "\n",
    "Hva er optimalt antall utsalgssteder for Kaffebønna i Tromsø?"
   ]
  },
  {
   "cell_type": "code",
   "execution_count": 1,
   "metadata": {},
   "outputs": [],
   "source": [
    "import sympy as sp\n",
    "import numpy as np\n",
    "import matplotlib.pyplot as plt"
   ]
  },
  {
   "cell_type": "code",
   "execution_count": 2,
   "metadata": {},
   "outputs": [
    {
     "data": {
      "text/latex": [
       "$\\displaystyle \\pi = - F n + N \\left(V - c - \\frac{t}{2 n}\\right)$"
      ],
      "text/plain": [
       "Eq(\\pi, -F*n + N*(V - c - t/(2*n)))"
      ]
     },
     "metadata": {},
     "output_type": "display_data"
    }
   ],
   "source": [
    "# Definerer symboler\n",
    "n, N ,V, c, pi, F,t, Q,Z,P = sp.symbols('n N V c \\pi F t Q Z P')\n",
    "\n",
    "# Definerer profittfunksjonen\n",
    "profitt = sp.Eq(pi, (V-(t/(2*n))-c)*N-n*F)\n",
    "\n",
    "display(profitt)"
   ]
  },
  {
   "cell_type": "code",
   "execution_count": 3,
   "metadata": {},
   "outputs": [
    {
     "data": {
      "text/latex": [
       "$\\displaystyle \\frac{\\sqrt{2} \\sqrt{\\frac{N t}{F}}}{2}$"
      ],
      "text/plain": [
       "sqrt(2)*sqrt(N*t/F)/2"
      ]
     },
     "metadata": {},
     "output_type": "display_data"
    }
   ],
   "source": [
    "# Deriverer profittfunksjonen mhp. n\n",
    "profitt_N = sp.diff(profitt.rhs, n)\n",
    "\n",
    "# Setter den deriverte lik 0 (python trenger ikke sette lik 0) og løser for n\n",
    "n_løsning = sp.solve(profitt_N, n)\n",
    "\n",
    "# Vi får to løsninger den ene er negativ og den andre er positiv, så derfor velger vi den positive\n",
    "display(n_løsning[1])"
   ]
  },
  {
   "cell_type": "code",
   "execution_count": 4,
   "metadata": {},
   "outputs": [
    {
     "data": {
      "text/latex": [
       "$\\displaystyle 5$"
      ],
      "text/plain": [
       "5"
      ]
     },
     "metadata": {},
     "output_type": "display_data"
    }
   ],
   "source": [
    "# Eksempelverdier\n",
    "Optimalt_utsalg_løsning = n_løsning[1].subs({F: 25000, t: 50, N: 30000})\n",
    "\n",
    "display(round(Optimalt_utsalg_løsning))"
   ]
  }
 ],
 "metadata": {
  "kernelspec": {
   "display_name": "Python 3",
   "language": "python",
   "name": "python3"
  },
  "language_info": {
   "codemirror_mode": {
    "name": "ipython",
    "version": 3
   },
   "file_extension": ".py",
   "mimetype": "text/x-python",
   "name": "python",
   "nbconvert_exporter": "python",
   "pygments_lexer": "ipython3",
   "version": "3.11.1"
  }
 },
 "nbformat": 4,
 "nbformat_minor": 2
}
