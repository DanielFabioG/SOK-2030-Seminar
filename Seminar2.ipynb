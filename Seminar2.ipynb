{
 "cells": [
  {
   "cell_type": "markdown",
   "metadata": {},
   "source": [
    "# Sok-2030 Næringsøkonomi og konkuransestrategi\n",
    "\n",
    "## Seminar 2: Monopol og tredje grads prisdiskriminering\n",
    "\n",
    "Vi skal se på hvordan en monopolist kan maksimere profitten sin ved å diskriminere prisen på produktene sine.\n",
    "\n",
    "Betalingsvilligheten for boken \"Harry Potter and the Deathly Hallows\" vil være forskjellig for ulike grupper av mennesker. La oss anta to forskjellige markeder, USA og Europa."
   ]
  },
  {
   "cell_type": "code",
   "execution_count": 2,
   "metadata": {},
   "outputs": [],
   "source": [
    "import numpy as np\n",
    "import matplotlib.pyplot as plt\n",
    "import sympy as sp"
   ]
  },
  {
   "cell_type": "markdown",
   "metadata": {},
   "source": [
    "Etterpørselen for boken i USA er gitt ved:\n",
    "\n",
    "$$\n",
    "Q_{USA} = 9 - \\frac{P}{4}\n",
    "$$\n",
    "\n",
    "Etterpørselen for boken i Europa er gitt ved:\n",
    "\n",
    "$$\n",
    "Q_{E} = 6 - \\frac{P}{4}\n",
    "$$\n",
    "\n",
    "Først la oss regne ut invers etterspørsel for de to markedene. Dette gjør vi ved å løse for $P$ i både $Q_{U}$ og $Q_{E}$.\n",
    "\n",
    "For USA har vi invers etterspørsel:\n",
    "\n",
    "$$\n",
    "P_{U} = 36 - 4Q\n",
    "$$\n",
    "\n",
    "For Europa er invers etterspørsel gitt ved:\n",
    "\n",
    "$$\n",
    "P_{E} = 24 - 4Q\n",
    "$$"
   ]
  },
  {
   "cell_type": "code",
   "execution_count": 3,
   "metadata": {},
   "outputs": [
    {
     "data": {
      "text/latex": [
       "$\\displaystyle Q_{U} = 9 - \\frac{P_{U}}{4}$"
      ],
      "text/plain": [
       "Eq(Q_U, 9 - P_U/4)"
      ]
     },
     "metadata": {},
     "output_type": "display_data"
    },
    {
     "data": {
      "text/latex": [
       "$\\displaystyle Q_{E} = 6 - \\frac{P_{E}}{4}$"
      ],
      "text/plain": [
       "Eq(Q_E, 6 - P_E/4)"
      ]
     },
     "metadata": {},
     "output_type": "display_data"
    }
   ],
   "source": [
    "# Definerer symboler\n",
    "P_U, P_E, Q_U, Q_E = sp.symbols('P_U P_E Q_U Q_E', real=True, positive=True)\n",
    "\n",
    "# Definerer etterpørselsfunksjonene for begge markeder\n",
    "Etterspørsel_U = sp.Eq(Q_U,9 - (P_U/4))\n",
    "Etterspørsel_E = sp.Eq(Q_E,6 - (P_E/4))\n",
    "\n",
    "display(Etterspørsel_U) \n",
    "display(Etterspørsel_E)"
   ]
  },
  {
   "cell_type": "code",
   "execution_count": 4,
   "metadata": {},
   "outputs": [
    {
     "data": {
      "text/latex": [
       "$\\displaystyle 36 - 4 Q_{U}$"
      ],
      "text/plain": [
       "36 - 4*Q_U"
      ]
     },
     "metadata": {},
     "output_type": "display_data"
    },
    {
     "data": {
      "text/latex": [
       "$\\displaystyle 24 - 4 Q_{E}$"
      ],
      "text/plain": [
       "24 - 4*Q_E"
      ]
     },
     "metadata": {},
     "output_type": "display_data"
    }
   ],
   "source": [
    "# Løser begge for P\n",
    "invers_U = sp.solve(Etterspørsel_U, P_U)[0]\n",
    "invers_E = sp.solve(Etterspørsel_E, P_E)[0]\n",
    "\n",
    "display(invers_U)\n",
    "display(invers_E)"
   ]
  },
  {
   "cell_type": "markdown",
   "metadata": {},
   "source": [
    "### Optimal tilpasning ved tredje grads prisdiskriminering USA\n",
    "\n",
    "For å maksimere profitten sin, må monopolisten sette prisen slik at marginalkostnaden (MC) er lik marginalinntekten (MR) , som vi har sett på tidligere. Marginalkostnaden er lik i begge markedene, og er gitt ved:\n",
    "\n",
    "$$\n",
    "MC = 4\n",
    "$$\n",
    "\n",
    "per produsert enhet (bok).\n",
    "\n",
    "Deretter finner vi marginalinntekt til USA ved å multiplisere invers etterspørsel $P_U(Q_U)$ med $Q_U$ og deriverer med hensyn til $Q_U$:\n",
    "\n",
    "$$\n",
    "MR_U = 36 - 8Q_U\n",
    "$$\n"
   ]
  },
  {
   "cell_type": "code",
   "execution_count": 5,
   "metadata": {},
   "outputs": [
    {
     "data": {
      "text/latex": [
       "$\\displaystyle Q_{U} \\left(36 - 4 Q_{U}\\right)$"
      ],
      "text/plain": [
       "Q_U*(36 - 4*Q_U)"
      ]
     },
     "execution_count": 5,
     "metadata": {},
     "output_type": "execute_result"
    }
   ],
   "source": [
    "# Multipliserer prisen med kvantumet for å finne totalinntekten\n",
    "TR_U = invers_U*Q_U\n",
    "TR_U"
   ]
  },
  {
   "cell_type": "code",
   "execution_count": 6,
   "metadata": {},
   "outputs": [
    {
     "data": {
      "text/latex": [
       "$\\displaystyle 36 - 8 Q_{U}$"
      ],
      "text/plain": [
       "36 - 8*Q_U"
      ]
     },
     "execution_count": 6,
     "metadata": {},
     "output_type": "execute_result"
    }
   ],
   "source": [
    "# Deriverer totalinntekten med hensyn på kvantumet for å finne marginalinntekten\n",
    "MR_U = TR_U.diff(Q_U)\n",
    "MR_U"
   ]
  },
  {
   "cell_type": "markdown",
   "metadata": {},
   "source": [
    "Nå har vi regnet ut marginalkostnaden og marginalinntekten for USA. For å finne optimal tilpasning for monopolisten i USA, må vi sette:\n",
    "\n",
    "$$\n",
    "MC_U = MR_U\n",
    "$$\n",
    "\n",
    "$$\n",
    "36 - 8Q_U = 4\n",
    "$$\n",
    "\n",
    "Vi løser for $Q_U$:\n",
    "\n",
    "$$\n",
    "Q_U = 4\n",
    "$$\n",
    "\n",
    "Nå kan vi finne prisen monopolisten setter i USA ved å sette $Q_U = 4$ inn i invers etterspørsel $P_U(Q_U)$:\n",
    "\n",
    "$$\n",
    "P_U = 36 - 4 \\cdot 4 = 20\n",
    "$$\n",
    "\n",
    "Profitten til monopolisten i USA er gitt ved:\n",
    "\n",
    "$$\n",
    "\\pi_U = P_U \\cdot Q_U - MC \\cdot Q_U = 20 \\cdot 4 - 4 \\cdot 4 = 72\n",
    "$$"
   ]
  },
  {
   "cell_type": "code",
   "execution_count": 7,
   "metadata": {},
   "outputs": [
    {
     "data": {
      "text/latex": [
       "$\\displaystyle 36 - 8 Q_{U} = 4$"
      ],
      "text/plain": [
       "Eq(36 - 8*Q_U, 4)"
      ]
     },
     "metadata": {},
     "output_type": "display_data"
    }
   ],
   "source": [
    "# MC er konstant og lik 4\n",
    "MC = 4\n",
    "# Setter MR = MC for å finne likevektskvantumet\n",
    "likevekt_U = sp.Eq(MR_U, MC)\n",
    "\n",
    "display(likevekt_U)"
   ]
  },
  {
   "cell_type": "code",
   "execution_count": 8,
   "metadata": {},
   "outputs": [
    {
     "data": {
      "text/plain": [
       "'Likevektskvantumet er 4, prisen er 20 og profitten blir 64'"
      ]
     },
     "execution_count": 8,
     "metadata": {},
     "output_type": "execute_result"
    }
   ],
   "source": [
    "# Løser for kvantumet\n",
    "likevekt_U_kv = sp.solve(likevekt_U, Q_U)[0]\n",
    "\n",
    "# Setter kvantumet inn i etterspørselsfunksjonen for å finne prisen\n",
    "likevekt_U_pris = invers_U.subs(Q_U, likevekt_U_kv)\n",
    "\n",
    "# Finner profitten\n",
    "profitt_U = TR_U.subs(Q_U, likevekt_U_kv) - MC*likevekt_U_kv\n",
    "\n",
    "f'Likevektskvantumet er {likevekt_U_kv}, prisen er {likevekt_U_pris} og profitten blir {profitt_U}'"
   ]
  },
  {
   "cell_type": "markdown",
   "metadata": {},
   "source": [
    "### Optimal tilpasning ved tredje grads prisdiskriminering Europa\n",
    "\n",
    "For Europa har vi allerede regnet ut invers etterspørsel:\n",
    "\n",
    "$$\n",
    "P_E = 24 - 4Q_E\n",
    "$$\n",
    "\n",
    "Marginalkostnaden er lik i begge markedene, så her har Europa også marginalkostnad $MC = 4$.\n",
    "\n",
    "For å finne marginalinntekt til Europa, multipliserer vi invers etterspørsel $P_E(Q_E)$ med $Q_E$ og deriverer med hensyn til $Q_E$:\n",
    "\n",
    "$$\n",
    "MR_E = 24 - 8Q_E\n",
    "$$"
   ]
  },
  {
   "cell_type": "code",
   "execution_count": 9,
   "metadata": {},
   "outputs": [
    {
     "data": {
      "text/latex": [
       "$\\displaystyle Q_{E} \\left(24 - 4 Q_{E}\\right)$"
      ],
      "text/plain": [
       "Q_E*(24 - 4*Q_E)"
      ]
     },
     "execution_count": 9,
     "metadata": {},
     "output_type": "execute_result"
    }
   ],
   "source": [
    "# Multipliserer prisen med kvantumet for å finne totalinntekten for Europa\n",
    "TR_E = invers_E*Q_E\n",
    "TR_E"
   ]
  },
  {
   "cell_type": "code",
   "execution_count": 10,
   "metadata": {},
   "outputs": [
    {
     "data": {
      "text/latex": [
       "$\\displaystyle 24 - 8 Q_{E}$"
      ],
      "text/plain": [
       "24 - 8*Q_E"
      ]
     },
     "execution_count": 10,
     "metadata": {},
     "output_type": "execute_result"
    }
   ],
   "source": [
    "# Deriverer totalinntekten med hensyn på kvantumet for å finne marginalinntekten\n",
    "MR_E = TR_E.diff(Q_E)\n",
    "MR_E"
   ]
  },
  {
   "cell_type": "markdown",
   "metadata": {},
   "source": [
    "Nå har vi regnet ut marginalkostnaden og marginalinntekten for Europa. For å finne optimal tilpasning for monopolisten i Europa, må vi sette $MC_E = MR_E$:\n",
    "\n",
    "$$\n",
    "24 - 8Q_E = 4\n",
    "$$\n",
    "\n",
    "Vi løser for $Q_E$:\n",
    "\n",
    "$$\n",
    "Q_E = 2\n",
    "$$\n",
    "\n",
    "Nå kan vi finne prisen monopolisten setter i Europa ved å sette $Q_E = 2$ inn i invers etterspørsel $P_E(Q_E)$:\n",
    "\n",
    "$$\n",
    "P_E = 24 - 4 \\cdot 2 = 16\n",
    "$$\n",
    "\n",
    "Profitten til monopolisten i Europa er gitt ved:\n",
    "\n",
    "$$\n",
    "\\pi_E = P_E \\cdot Q_E - MC \\cdot Q_E = 16 \\cdot 2 - 4 \\cdot 2 = 24\n",
    "$$"
   ]
  },
  {
   "cell_type": "code",
   "execution_count": 11,
   "metadata": {},
   "outputs": [
    {
     "data": {
      "text/plain": [
       "'Likevektskvantumet er 2.5, prisen er 14 og profitten blir 25'"
      ]
     },
     "execution_count": 11,
     "metadata": {},
     "output_type": "execute_result"
    }
   ],
   "source": [
    "# Løser for kvantumet til Europa\n",
    "likevekt_E_kv = sp.solve(sp.Eq(MR_E, MC), Q_E)[0]\n",
    "\n",
    "# Setter kvantumet inn i etterspørselsfunksjonen for å finne prisen\n",
    "likevekt_E_pris = invers_E.subs(Q_E, likevekt_E_kv)\n",
    "\n",
    "# Finner profitten\n",
    "profitt_E = TR_E.subs(Q_E, likevekt_E_kv) - MC*likevekt_E_kv\n",
    "\n",
    "f'Likevektskvantumet er {round(likevekt_E_kv, 1)}, prisen er {likevekt_E_pris} og profitten blir {profitt_E}'"
   ]
  },
  {
   "cell_type": "markdown",
   "metadata": {},
   "source": [
    "## Optimal tilpasning ved uniform prising\n",
    "\n",
    "Til slutt ser vi på hvilken pris produsentene vil sette hvis de skal ha lik pris i begge markedene.\n",
    "\n",
    "For å finne optimal tilpasning ved uniform prising må vi aggregere etterspørselen fra USA og Europa. Total etterspørsel er gitt ved:\n",
    "\n",
    "$$\n",
    "Q = Q_U + Q_E = 9 - \\frac{P}{4} + 6 - \\frac{P}{4} = 15 - \\frac{P}{2}\n",
    "$$\n",
    "\n",
    "Vi kan finne total invers etterspørsel ved å løse den aggregerte etterspørsel for USA og Europa for P:\n",
    "\n",
    "$$\n",
    "P = 30 - 2Q\n",
    "$$"
   ]
  },
  {
   "cell_type": "code",
   "execution_count": 12,
   "metadata": {},
   "outputs": [
    {
     "data": {
      "text/latex": [
       "$\\displaystyle 15 - \\frac{P}{2}$"
      ],
      "text/plain": [
       "15 - P/2"
      ]
     },
     "execution_count": 12,
     "metadata": {},
     "output_type": "execute_result"
    }
   ],
   "source": [
    "# I koden når vi aggregerer etterpørselen, så legger vi sammen kvantumet fra USA og Europa. Derfor bruker vi nå Q OG E istedenfor Q U og Q E.\n",
    "Q,E,P = sp.symbols('Q E P', real=True, positive=True)\n",
    "Etterspørsel_USA = sp.Eq(Q,9 - (P/4))\n",
    "Etterspørsel_EU = sp.Eq(E,6 - (P/4))\n",
    "\n",
    "# Aggregerer etterpørselen\n",
    "Etterspørsel_aggregert = Etterspørsel_USA.rhs + Etterspørsel_EU.rhs\n",
    "\n",
    "Etterspørsel_aggregert"
   ]
  },
  {
   "cell_type": "code",
   "execution_count": 13,
   "metadata": {},
   "outputs": [
    {
     "data": {
      "text/latex": [
       "$\\displaystyle 30 - 2 Q$"
      ],
      "text/plain": [
       "30 - 2*Q"
      ]
     },
     "execution_count": 13,
     "metadata": {},
     "output_type": "execute_result"
    }
   ],
   "source": [
    "# Løser for prisen\n",
    "invers_aggregert = sp.solve(Etterspørsel_aggregert - Q, P)[0]\n",
    "\n",
    "invers_aggregert"
   ]
  },
  {
   "cell_type": "markdown",
   "metadata": {},
   "source": [
    "Marginalkostnader og marginalinntekt for aggregert etterspørsel\n",
    "\n",
    "Vi antar at marginalkostnaden (MC) fortsatt er konstant, altså MC = 4.\n",
    "\n",
    "Totalinntekten (TR) for den aggregerte etterspørselen, med invers etterspørsel \n",
    "$$\n",
    "P = 30 - 2Q\n",
    "$$ \n",
    "blir:\n",
    "$$\n",
    "TR = P \\cdot Q = (30 - 2Q)Q = 30Q - 2Q^2\n",
    "$$\n",
    "\n",
    "Marginalinntekten (MR) oppnås ved å derivere totalinntekten med hensyn på Q:\n",
    "$$\n",
    "MR = \\frac{\\partial (TR)}{\\partial Q} = 30 - 4Q\n",
    "$$\n"
   ]
  },
  {
   "cell_type": "code",
   "execution_count": 14,
   "metadata": {},
   "outputs": [
    {
     "data": {
      "text/latex": [
       "$\\displaystyle Q \\left(30 - 2 Q\\right)$"
      ],
      "text/plain": [
       "Q*(30 - 2*Q)"
      ]
     },
     "execution_count": 14,
     "metadata": {},
     "output_type": "execute_result"
    }
   ],
   "source": [
    "# Multipliserer prisen med kvantumet for å finne totalinntekten\n",
    "TR = invers_aggregert*Q\n",
    "TR"
   ]
  },
  {
   "cell_type": "code",
   "execution_count": 15,
   "metadata": {},
   "outputs": [
    {
     "data": {
      "text/latex": [
       "$\\displaystyle 30 - 4 Q$"
      ],
      "text/plain": [
       "30 - 4*Q"
      ]
     },
     "execution_count": 15,
     "metadata": {},
     "output_type": "execute_result"
    }
   ],
   "source": [
    "# Deriverer totalinntekten med hensyn på kvantumet for å finne marginalinntekten\n",
    "MR = TR.diff(Q)\n",
    "MR"
   ]
  },
  {
   "cell_type": "markdown",
   "metadata": {},
   "source": [
    "Disse uttrykkene setter vi opp mot marginalkostnaden for å finne den optimale mengden som tidligere.\n",
    "\n",
    "For uniform prising (aggregert etterspørsel) setter vi marginalkostnaden lik marginalinntekten og får:\n",
    "\n",
    "$$\n",
    "30 - 4Q = 4\n",
    "$$\n",
    "\n",
    "Vi løser for $Q$:\n",
    "$$\n",
    "4Q = 30 – 4 = 26\n",
    "$$\n",
    "\n",
    "$$\n",
    "Q = \\frac{26}{4} = 6.5\n",
    "$$\n",
    "\n",
    "Nå kan vi finne prisen monopolisten setter ved uniform prising ved å sette $Q = 6.5$ inn i invers etterspørsel $P = 30 - 2Q$:\n",
    "\n",
    "$$\n",
    "P = 30 - 2 \\cdot 6.5 = 17\n",
    "$$\n",
    "\n",
    "Profitten til monopolisten ved uniform prising er gitt ved:\n",
    "\n",
    "$$\n",
    "\\pi = P \\cdot Q - MC \\cdot Q = 17 \\cdot 6.5 - 4 \\cdot 6.5 = 84.5\n",
    "$$"
   ]
  },
  {
   "cell_type": "code",
   "execution_count": 16,
   "metadata": {},
   "outputs": [
    {
     "data": {
      "text/latex": [
       "$\\displaystyle 30 - 4 Q = 4$"
      ],
      "text/plain": [
       "Eq(30 - 4*Q, 4)"
      ]
     },
     "metadata": {},
     "output_type": "display_data"
    }
   ],
   "source": [
    "# Setter MR = MC for å finne likevektskvantumet\n",
    "likevekt = sp.Eq(MR, MC)\n",
    "\n",
    "display(likevekt)"
   ]
  },
  {
   "cell_type": "code",
   "execution_count": 19,
   "metadata": {},
   "outputs": [
    {
     "data": {
      "text/plain": [
       "'Likevektskvantumet er 6.5, prisen er 17 og profitten blir 84.5'"
      ]
     },
     "execution_count": 19,
     "metadata": {},
     "output_type": "execute_result"
    }
   ],
   "source": [
    "# Løser for kvantumet\n",
    "likevekt_kv = sp.solve(likevekt, Q)[0]\n",
    "\n",
    "# Setter kvantumet inn i etterspørselsfunksjonen for å finne prisen\n",
    "likevekt_pris = invers_aggregert.subs(Q, likevekt_kv)\n",
    "\n",
    "# Finner profitten\n",
    "profitt = TR.subs(Q, likevekt_kv) - MC*likevekt_kv\n",
    "\n",
    "f'Likevektskvantumet er {round(likevekt_kv,1)}, prisen er {likevekt_pris} og profitten blir {round(profitt,1)}'"
   ]
  },
  {
   "cell_type": "code",
   "execution_count": 22,
   "metadata": {},
   "outputs": [
    {
     "name": "stdout",
     "output_type": "stream",
     "text": [
      "Profitten ved å holde markedene adskilt er 89, mens profitten ved å aggregerer markedene er 84.5 og endringen i profitt er 4.5\n"
     ]
    }
   ],
   "source": [
    "# Total profitt\n",
    "total_profitt = profitt_U + profitt_E\n",
    "\n",
    "# Total profitt ved aggregering\n",
    "profitt\n",
    "\n",
    "# Endring i profitt\n",
    "endring_profitt = total_profitt - profitt\n",
    "\n",
    "print(f'Profitten ved å holde markedene adskilt er {profitt_U + profitt_E}, mens profitten ved å aggregerer markedene er {round(profitt,1)} og endringen i profitt er {round(endring_profitt,1)}')"
   ]
  },
  {
   "cell_type": "markdown",
   "metadata": {},
   "source": [
    "## Hvorfor prisdiskriminering gir høyere profitt\n",
    "\n",
    "Prisdiskriminering gir høyere profitt fordi det tillater selgeren å fange opp mer av konsumentoverskuddet ved å tilpasse prisen til betalingsvilligheten i hvert marked. \n",
    "\n",
    "Dette fører til at selgeren kan selge flere enheter til høyere priser i markeder med høy betalingsvillighet og fortsatt selge i markeder med lavere betalingsvillighet uten å måtte senke prisen for alle kunder."
   ]
  }
 ],
 "metadata": {
  "kernelspec": {
   "display_name": "Python 3",
   "language": "python",
   "name": "python3"
  },
  "language_info": {
   "codemirror_mode": {
    "name": "ipython",
    "version": 3
   },
   "file_extension": ".py",
   "mimetype": "text/x-python",
   "name": "python",
   "nbconvert_exporter": "python",
   "pygments_lexer": "ipython3",
   "version": "3.11.1"
  }
 },
 "nbformat": 4,
 "nbformat_minor": 2
}
