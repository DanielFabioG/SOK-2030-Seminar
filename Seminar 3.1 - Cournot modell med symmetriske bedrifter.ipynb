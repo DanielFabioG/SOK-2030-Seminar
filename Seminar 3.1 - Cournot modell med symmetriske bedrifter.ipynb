{
 "cells": [
  {
   "cell_type": "markdown",
   "metadata": {},
   "source": [
    "# SOK-2030 Næringsøkonomi og konkuransestrategi\n",
    "\n",
    "## Seminar 3.1: Oligopolmodeller"
   ]
  },
  {
   "cell_type": "code",
   "execution_count": 75,
   "metadata": {},
   "outputs": [],
   "source": [
    "import sympy as sp\n",
    "import numpy as np\n",
    "import matplotlib.pyplot as plt"
   ]
  },
  {
   "cell_type": "markdown",
   "metadata": {},
   "source": [
    "### Cournot-modellen med symmetriske bedrifter\n",
    "\n",
    "Vi skal se på en modell der to bedrifter konkurrerer om å selge et homogent produkt. Bedriftene produserer samtidig og uavhengig av hverandre. Vi antar at bedriftene har identiske kostnader, og at de kjenner hverandres kostnader. Vi antar også at bedriftene har full oversikt over markedet, og at de tar hensyn til hvordan konkurrenten vil reagere på endringer i egen produksjon.\n",
    "\n",
    "Vi antar at vi har en etterspørsel som er gitt ved:\n",
    "\n",
    "$$\n",
    "Q = a - bP\n",
    "$$\n",
    "\n",
    "der $Q$ er mengden som etterspørres, $P$ er prisen, og $a$ og $b$ er positive konstanter. \n",
    "\n",
    "Q er også lik summen av mengden som produseres av de to bedriftene:\n",
    "\n",
    "$$\n",
    "Q = q_1 + q_2\n",
    "$$\n",
    "\n",
    "Siden vi har to bedrifter i en Cournot-modell, vil hver bedrift maksimere profitten sin gitt at konkurrenten produserer en viss mengde.\n",
    "\n",
    "Videre så antar vi at marginalkostnaden er konstant, og lik $c$ for begge bedriftene.\n",
    "\n",
    "Vi starter med å finne invers etterspørselfunksjon for å finne prisen som funksjon av mengden som produseres. Denne er gitt ved å løse etterspørselsfunksjonen for $P$:\n",
    "\n",
    "$$\n",
    "P = \\frac{a - Q}{b} = \\frac{a - (q_1 + q_2)}{b}\n",
    "$$\n",
    "\n",
    "## Totalinntekt og marginalinntekt\n",
    "\n",
    "Finner så totalinntekten til hver bedrift, som er gitt ved prisen ganget med kvantum:\n",
    "\n",
    "$$\n",
    "TR_1 = P \\times q_1 = \\frac{a - (q_1 + q_2)}{b}  q_1\n",
    "$$\n",
    "\n",
    "og for bedrift 2:\n",
    "\n",
    "$$\n",
    "TR_2 = P \\times q_2 = \\frac{a - (q_1 + q_2)}{b} q_2\n",
    "$$\n",
    "\n",
    "Finner så marginalinntekten for begge bedriftene, som den deriverte av totalinntekten med henhold til kvantum:\n",
    "\n",
    "$$\n",
    "MR_1 = \\frac{\\partial TR_1}{\\partial q_1} = \\frac{a - 2q_1 - q_2}{b}\n",
    "$$\n",
    "\n",
    "og for bedrift 2:\n",
    "\n",
    "$$\n",
    "MR_2 = \\frac{\\partial TR_2}{\\partial q_2} = \\frac{a - q_1 - 2q_2}{b}\n",
    "$$"
   ]
  },
  {
   "cell_type": "code",
   "execution_count": 76,
   "metadata": {},
   "outputs": [
    {
     "data": {
      "text/latex": [
       "$\\displaystyle q_{1} + q_{2} = - P b + a$"
      ],
      "text/plain": [
       "Eq(q_1 + q_2, -P*b + a)"
      ]
     },
     "metadata": {},
     "output_type": "display_data"
    },
    {
     "data": {
      "text/latex": [
       "$\\displaystyle \\frac{a - q_{1} - q_{2}}{b}$"
      ],
      "text/plain": [
       "(a - q_1 - q_2)/b"
      ]
     },
     "metadata": {},
     "output_type": "display_data"
    }
   ],
   "source": [
    "# Definerer symboler\n",
    "P,Q,q_1,q_2,a,b,c = sp.symbols('P Q q_1 q_2 a b c')\n",
    "\n",
    "# Q = q_1 + q_2\n",
    "Q = q_1 + q_2\n",
    "\n",
    "# Definerer etterspørselsfunksjonen\n",
    "Etterspørsel = sp.Eq(Q, a - b*P)\n",
    "\n",
    "# Løser for P\n",
    "Invers_etterspørsel = sp.solve(Etterspørsel, P)\n",
    "\n",
    "# Viser løsningene\n",
    "display(Etterspørsel, Invers_etterspørsel[0])"
   ]
  },
  {
   "cell_type": "code",
   "execution_count": 77,
   "metadata": {},
   "outputs": [
    {
     "data": {
      "text/latex": [
       "$\\displaystyle \\frac{q_{1} \\left(a - q_{1} - q_{2}\\right)}{b}$"
      ],
      "text/plain": [
       "q_1*(a - q_1 - q_2)/b"
      ]
     },
     "metadata": {},
     "output_type": "display_data"
    },
    {
     "data": {
      "text/latex": [
       "$\\displaystyle \\frac{q_{2} \\left(a - q_{1} - q_{2}\\right)}{b}$"
      ],
      "text/plain": [
       "q_2*(a - q_1 - q_2)/b"
      ]
     },
     "metadata": {},
     "output_type": "display_data"
    }
   ],
   "source": [
    "# Multipliserer prisen med kvantumet for å finne totalinntekten\n",
    "Totalinntekt = Invers_etterspørsel[0]*q_1\n",
    "Totalinntekt2 = Invers_etterspørsel[0]*q_2\n",
    "\n",
    "# Viser totalinntekten\n",
    "display(Totalinntekt, Totalinntekt2)"
   ]
  },
  {
   "cell_type": "code",
   "execution_count": 78,
   "metadata": {},
   "outputs": [
    {
     "data": {
      "text/latex": [
       "$\\displaystyle \\frac{a - 2 q_{1} - q_{2}}{b}$"
      ],
      "text/plain": [
       "(a - 2*q_1 - q_2)/b"
      ]
     },
     "metadata": {},
     "output_type": "display_data"
    },
    {
     "data": {
      "text/latex": [
       "$\\displaystyle \\frac{a - q_{1} - 2 q_{2}}{b}$"
      ],
      "text/plain": [
       "(a - q_1 - 2*q_2)/b"
      ]
     },
     "metadata": {},
     "output_type": "display_data"
    }
   ],
   "source": [
    "# Deriverer totalinntekten for å finne marginalinntekten\n",
    "Marginalinntekt_q1 = sp.diff(Totalinntekt, q_1)\n",
    "Marginalinntekt_q2 = sp.diff(Totalinntekt2, q_2)\n",
    "\n",
    "# Viser marginalinntekten\n",
    "display(sp.simplify(Marginalinntekt_q1), sp.simplify(Marginalinntekt_q2))"
   ]
  },
  {
   "cell_type": "markdown",
   "metadata": {},
   "source": [
    "## Reaksjonsfunksjoner\n",
    "\n",
    "Nå har vi regnet ut marginalinntekten, og vi kan sette denne lik marginalkostnaden for å finne optimal produksjon for hver bedrift. Vi setter $MR = c$ og løser for kvantum til bedrift 1:\n",
    "\n",
    "$$\n",
    "\\frac{a - 2q_1 - q_2}{b} = c \\Rightarrow a - 2q_1 - q_2 = bc\n",
    "$$\n",
    "\n",
    "Løser vi denne likningen for $q_1$ får vi reaksjonsfunksjonen til bedrift 1:\n",
    "\n",
    "$$\n",
    "q_1 = \\frac{a-bc-q2}{2}\n",
    "$$\n",
    "\n",
    "og for bedrift 2 blir tilsvarende:\n",
    "\n",
    "$$\n",
    "\\frac{a - q_1 - 2q_2}{b} = c \\Rightarrow a - q_1 - 2q_2 = bc\n",
    "$$\n",
    "\n",
    "Løser vi denne likningen for $q_2$ får vi reaksjonsfunksjonen til bedrift 2:\n",
    "\n",
    "$$\n",
    "q_2 = \\frac{a-bc-q1}{2}\n",
    "$$\n",
    "\n",
    "Merk at disse ser noe annerledes ut i koden, men er bare en annen måte å skrive det samme på.\n",
    "\n",
    "Disse kalles for reaksjonsfunksjonene, og de viser hvor mye hver bedrift vil produsere gitt konkurrentens produksjon.\n",
    "\n",
    "## Symmetrisk likevekt\n",
    "\n",
    "I symmetrisk likevekt antar vi at bedriftene produserer like mye, altså at $q_1 = q_2$ = $q$. Setter vi dette inn i for eksempel bedrift 1 sin reaksjonsfunksjon, får vi:\n",
    "\n",
    "$$\n",
    "q = \\frac{a - bc-q}{2}\n",
    "$$\n",
    "\n",
    "Multipliserer vi dette med 2 får vi totalt kvantum som produseres i markedet:\n",
    "\n",
    "$$\n",
    "3q = a-bc \\Rightarrow q = \\frac{a - bc}{3}\n",
    "$$\n",
    "\n",
    "Så i symmetrisk likevekt er:\n",
    "\n",
    "$$\n",
    "q_1 = q_2 = \\frac{a - bc}{3}\n",
    "$$\n",
    "\n",
    "Og den totale mengden som produseres er:\n",
    "\n",
    "$$\n",
    "Q = q_1 + q_2 = \\frac{2(a - bc)}{3}\n",
    "$$\n",
    "\n",
    "## Prisfunksjonen\n",
    "\n",
    "Ved å sette kvantum inn i invers etterspørsel, får vi prisfunksjonen:\n",
    "\n",
    "\n",
    "$$\n",
    "P = \\frac{a-Q}{b} = \\frac{a - \\frac{2(a - bc)}{3}}{b} \n",
    "$$\n",
    "\n",
    "Og forenkler vi teller og nevner får vi:\n",
    "\n",
    "$$\n",
    "a - \\frac{2(a - bc)}{3} = \\frac{3a - 2(a - bc)}{3b} = \\frac{a + 2bc}{3b}\n",
    "$$\n",
    "\n",
    "Så i symmetrisk likevekt er prisen:\n",
    "\n",
    "$$\n",
    "P = \\frac{a + 2bc}{3b}\n",
    "$$\n",
    "## Optimal kvantum og pris\n",
    "\n",
    "Vi finner optimal pris ved å summere kvantum for bedrift 1 og 2 og setter optimalt kvantum inn i invers etterspørsel:\n",
    "\n",
    "$$\n",
    "Q = q_1 + q_2 = \\frac{2(a - bc)}{3}\n",
    "$$\n",
    "\n",
    "Profitten til hver bedrift:\n",
    "\n",
    "$$\n",
    "\\pi_1 = (P - c) \\times q_1 = (\\frac{a + 2bc}{3b} - c) \\times \\frac{a - bc}{3}\n",
    "$$"
   ]
  },
  {
   "cell_type": "code",
   "execution_count": 79,
   "metadata": {},
   "outputs": [
    {
     "data": {
      "text/latex": [
       "$\\displaystyle c = \\frac{a - 2 q_{1} - q_{2}}{b}$"
      ],
      "text/plain": [
       "Eq(c, (a - 2*q_1 - q_2)/b)"
      ]
     },
     "metadata": {},
     "output_type": "display_data"
    },
    {
     "data": {
      "text/latex": [
       "$\\displaystyle c = \\frac{a - q_{1} - 2 q_{2}}{b}$"
      ],
      "text/plain": [
       "Eq(c, (a - q_1 - 2*q_2)/b)"
      ]
     },
     "metadata": {},
     "output_type": "display_data"
    }
   ],
   "source": [
    "# Setter marginalinntekten lik kostnaden\n",
    "likevekt_q1 = sp.Eq(Marginalinntekt_q1, c)\n",
    "likevekt_q2 = sp.Eq(Marginalinntekt_q2, c)\n",
    "\n",
    "display(sp.simplify(likevekt_q1), sp.simplify(likevekt_q2))"
   ]
  },
  {
   "cell_type": "code",
   "execution_count": 80,
   "metadata": {},
   "outputs": [
    {
     "data": {
      "text/latex": [
       "$\\displaystyle \\frac{a}{2} - \\frac{b c}{2} - \\frac{q_{2}}{2}$"
      ],
      "text/plain": [
       "a/2 - b*c/2 - q_2/2"
      ]
     },
     "execution_count": 80,
     "metadata": {},
     "output_type": "execute_result"
    }
   ],
   "source": [
    "# Løser for q1 for å finne reaksjonsfunksjon til bedrift 1, dette er utrykket som ovenfor bare ikke forenklet\n",
    "q1 = sp.solve(likevekt_q1, q_1)\n",
    "q1[0]"
   ]
  },
  {
   "cell_type": "code",
   "execution_count": 81,
   "metadata": {},
   "outputs": [
    {
     "data": {
      "text/latex": [
       "$\\displaystyle \\frac{a}{2} - \\frac{b c}{2} - \\frac{q_{1}}{2}$"
      ],
      "text/plain": [
       "a/2 - b*c/2 - q_1/2"
      ]
     },
     "metadata": {},
     "output_type": "display_data"
    }
   ],
   "source": [
    "# Løser for q2 for å finne reaksjonsfunksjon til bedrift 2, uttrykket er det samme som ovenfor i markdown bare ikke forenklet\n",
    "q2 = sp.solve(likevekt_q2, q_2)\n",
    "\n",
    "display(q2[0])"
   ]
  },
  {
   "cell_type": "code",
   "execution_count": 82,
   "metadata": {},
   "outputs": [
    {
     "data": {
      "text/latex": [
       "$\\displaystyle q_{1} = \\frac{a}{4} - \\frac{b c}{4} + \\frac{q_{1}}{4}$"
      ],
      "text/plain": [
       "Eq(q_1, a/4 - b*c/4 + q_1/4)"
      ]
     },
     "execution_count": 82,
     "metadata": {},
     "output_type": "execute_result"
    }
   ],
   "source": [
    "# Setter uttrykk for q2 inn i q1 for å finne likevektskvantum\n",
    "likevekt_eq = sp.Eq(q_1, q1[0].subs(q_2, q2[0]))\n",
    "likevekt_eq"
   ]
  },
  {
   "cell_type": "code",
   "execution_count": 83,
   "metadata": {},
   "outputs": [
    {
     "data": {
      "text/latex": [
       "$\\displaystyle \\frac{a}{3} - \\frac{b c}{3}$"
      ],
      "text/plain": [
       "a/3 - b*c/3"
      ]
     },
     "metadata": {},
     "output_type": "display_data"
    },
    {
     "data": {
      "text/latex": [
       "$\\displaystyle \\frac{a}{3} - \\frac{b c}{3}$"
      ],
      "text/plain": [
       "a/3 - b*c/3"
      ]
     },
     "metadata": {},
     "output_type": "display_data"
    }
   ],
   "source": [
    "# Løser symmetrisk likevekt for q1 og q2\n",
    "optimal_q1 = sp.solve(likevekt_eq, q_1)[0]\n",
    "\n",
    "optimal_q2 = q2[0].subs(q_1, optimal_q1)\n",
    "\n",
    "\n",
    "display(optimal_q1, optimal_q2)"
   ]
  },
  {
   "cell_type": "code",
   "execution_count": 84,
   "metadata": {},
   "outputs": [
    {
     "data": {
      "text/latex": [
       "$\\displaystyle \\frac{a + 2 b c}{3 b}$"
      ],
      "text/plain": [
       "(a + 2*b*c)/(3*b)"
      ]
     },
     "execution_count": 84,
     "metadata": {},
     "output_type": "execute_result"
    }
   ],
   "source": [
    "# Optimal Pris\n",
    "optimal_P = sp.simplify(Invers_etterspørsel[0].subs({q_1: optimal_q1, q_2: optimal_q2}))\n",
    "sp.simplify(optimal_P)"
   ]
  },
  {
   "cell_type": "code",
   "execution_count": 85,
   "metadata": {},
   "outputs": [
    {
     "data": {
      "text/latex": [
       "$\\displaystyle \\frac{\\left(- a + b c\\right)^{2}}{9 b}$"
      ],
      "text/plain": [
       "(-a + b*c)**2/(9*b)"
      ]
     },
     "execution_count": 85,
     "metadata": {},
     "output_type": "execute_result"
    }
   ],
   "source": [
    "# Profitt\n",
    "profitt = (optimal_P - c)*optimal_q1\n",
    "sp.simplify(profitt)"
   ]
  },
  {
   "cell_type": "markdown",
   "metadata": {},
   "source": [
    "## Oppgave Cournot modell\n",
    "\n",
    "I markedet for mikroøl har vi to bryggerier i Tromsø, Graff Brygghus og Bryggeri 13. I produksjon av øl velger bedriftene produksjonsvolum i god tid før produktene er på markedet. \n",
    "\n",
    "Etterspørselen imarkedet er gitt ved:\n",
    "\n",
    "$$\n",
    "P = 175 – 2Q\n",
    "$$\n",
    "\n",
    "hvor P er markedspris for mikroøl per flaske, Q er totalt kvantum (antall tusen flasker) og Q = qG + qB, der qG er produsert kvantum for Graff Brygghus og qB er produsert kvantum for Bryggeri 13. I produksjon av mikroøl vil Graff Brygghus og Bryggeri 13 ha konstante marginalkostnader på kr 10 per flaske, og begge bedriftene har årlige faste kostnader på kr 500 000.\n",
    "\n",
    "a) Hvor mye mikroøl vil det være optimalt for bryggeriene å produsere, og hva blir\n",
    "markedsprisen?\n"
   ]
  },
  {
   "cell_type": "code",
   "execution_count": 86,
   "metadata": {},
   "outputs": [],
   "source": [
    "# Skriv ditt svar her"
   ]
  },
  {
   "cell_type": "markdown",
   "metadata": {},
   "source": [
    "Graff Brygghus vurderer å investere i en ny og effektiv tappelinje som vil gi dem reduserte marginalkostnader. Investeringen vil koste bedriften kr 100.000, og vil gi dem marginalkostnad på kr 7 per flaske.\n",
    "\n",
    "b) Vil du anbefale Graff Brygghus å gjennomføre denne investeringen?"
   ]
  },
  {
   "cell_type": "code",
   "execution_count": 87,
   "metadata": {},
   "outputs": [],
   "source": [
    "# Skriv ditt svar her"
   ]
  }
 ],
 "metadata": {
  "kernelspec": {
   "display_name": "Python 3",
   "language": "python",
   "name": "python3"
  },
  "language_info": {
   "codemirror_mode": {
    "name": "ipython",
    "version": 3
   },
   "file_extension": ".py",
   "mimetype": "text/x-python",
   "name": "python",
   "nbconvert_exporter": "python",
   "pygments_lexer": "ipython3",
   "version": "3.11.1"
  }
 },
 "nbformat": 4,
 "nbformat_minor": 2
}
